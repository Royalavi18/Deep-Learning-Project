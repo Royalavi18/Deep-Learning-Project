{
 "cells": [
  {
   "cell_type": "code",
   "execution_count": 3,
   "metadata": {},
   "outputs": [],
   "source": [
    " #import the libraries as shown below\n",
    "\n",
    "from tensorflow.keras.layers import Input, Lambda, Dense, Flatten,Conv2D\n",
    "from tensorflow.keras.models import Model\n",
    "from tensorflow.keras.applications.vgg19 import VGG19\n",
    "from tensorflow.keras.applications.resnet50 import preprocess_input\n",
    "from tensorflow.keras.preprocessing import image\n",
    "from tensorflow.keras.preprocessing.image import ImageDataGenerator,load_img\n",
    "from tensorflow.keras.models import Sequential\n",
    "import numpy as np\n",
    "from glob import glob\n",
    "import matplotlib.pyplot as plt"
   ]
  },
  {
   "cell_type": "code",
   "execution_count": 4,
   "metadata": {},
   "outputs": [
    {
     "name": "stdout",
     "output_type": "stream",
     "text": [
      "2.1.0\n"
     ]
    }
   ],
   "source": [
    "import tensorflow as tf\n",
    "print(tf.__version__)"
   ]
  },
  {
   "cell_type": "code",
   "execution_count": 5,
   "metadata": {},
   "outputs": [],
   "source": [
    "IMAGE_SIZE=[224,224]\n",
    "train_path='Dataset/Train'\n",
    "valid_path='Dataset/Test'"
   ]
  },
  {
   "cell_type": "code",
   "execution_count": 6,
   "metadata": {},
   "outputs": [
    {
     "name": "stdout",
     "output_type": "stream",
     "text": [
      "Downloading data from https://github.com/fchollet/deep-learning-models/releases/download/v0.1/vgg19_weights_tf_dim_ordering_tf_kernels_notop.h5\n",
      "80142336/80134624 [==============================] - 943s 12us/step\n"
     ]
    }
   ],
   "source": [
    "vgg19=VGG19(input_shape=IMAGE_SIZE + [3] ,weights='imagenet' ,include_top=False)"
   ]
  },
  {
   "cell_type": "code",
   "execution_count": 8,
   "metadata": {},
   "outputs": [
    {
     "name": "stdout",
     "output_type": "stream",
     "text": [
      "Model: \"vgg19\"\n",
      "_________________________________________________________________\n",
      "Layer (type)                 Output Shape              Param #   \n",
      "=================================================================\n",
      "input_1 (InputLayer)         [(None, 224, 224, 3)]     0         \n",
      "_________________________________________________________________\n",
      "block1_conv1 (Conv2D)        (None, 224, 224, 64)      1792      \n",
      "_________________________________________________________________\n",
      "block1_conv2 (Conv2D)        (None, 224, 224, 64)      36928     \n",
      "_________________________________________________________________\n",
      "block1_pool (MaxPooling2D)   (None, 112, 112, 64)      0         \n",
      "_________________________________________________________________\n",
      "block2_conv1 (Conv2D)        (None, 112, 112, 128)     73856     \n",
      "_________________________________________________________________\n",
      "block2_conv2 (Conv2D)        (None, 112, 112, 128)     147584    \n",
      "_________________________________________________________________\n",
      "block2_pool (MaxPooling2D)   (None, 56, 56, 128)       0         \n",
      "_________________________________________________________________\n",
      "block3_conv1 (Conv2D)        (None, 56, 56, 256)       295168    \n",
      "_________________________________________________________________\n",
      "block3_conv2 (Conv2D)        (None, 56, 56, 256)       590080    \n",
      "_________________________________________________________________\n",
      "block3_conv3 (Conv2D)        (None, 56, 56, 256)       590080    \n",
      "_________________________________________________________________\n",
      "block3_conv4 (Conv2D)        (None, 56, 56, 256)       590080    \n",
      "_________________________________________________________________\n",
      "block3_pool (MaxPooling2D)   (None, 28, 28, 256)       0         \n",
      "_________________________________________________________________\n",
      "block4_conv1 (Conv2D)        (None, 28, 28, 512)       1180160   \n",
      "_________________________________________________________________\n",
      "block4_conv2 (Conv2D)        (None, 28, 28, 512)       2359808   \n",
      "_________________________________________________________________\n",
      "block4_conv3 (Conv2D)        (None, 28, 28, 512)       2359808   \n",
      "_________________________________________________________________\n",
      "block4_conv4 (Conv2D)        (None, 28, 28, 512)       2359808   \n",
      "_________________________________________________________________\n",
      "block4_pool (MaxPooling2D)   (None, 14, 14, 512)       0         \n",
      "_________________________________________________________________\n",
      "block5_conv1 (Conv2D)        (None, 14, 14, 512)       2359808   \n",
      "_________________________________________________________________\n",
      "block5_conv2 (Conv2D)        (None, 14, 14, 512)       2359808   \n",
      "_________________________________________________________________\n",
      "block5_conv3 (Conv2D)        (None, 14, 14, 512)       2359808   \n",
      "_________________________________________________________________\n",
      "block5_conv4 (Conv2D)        (None, 14, 14, 512)       2359808   \n",
      "_________________________________________________________________\n",
      "block5_pool (MaxPooling2D)   (None, 7, 7, 512)         0         \n",
      "=================================================================\n",
      "Total params: 20,024,384\n",
      "Trainable params: 0\n",
      "Non-trainable params: 20,024,384\n",
      "_________________________________________________________________\n"
     ]
    }
   ],
   "source": [
    "vgg19.summary()"
   ]
  },
  {
   "cell_type": "code",
   "execution_count": 9,
   "metadata": {},
   "outputs": [],
   "source": [
    "for layer in vgg19.layers:\n",
    "    layer.trainable=False\n"
   ]
  },
  {
   "cell_type": "code",
   "execution_count": 10,
   "metadata": {},
   "outputs": [],
   "source": [
    "folders=glob('Dataset/Train/*')"
   ]
  },
  {
   "cell_type": "code",
   "execution_count": 11,
   "metadata": {},
   "outputs": [
    {
     "data": {
      "text/plain": [
       "['Dataset/Train\\\\Parasite', 'Dataset/Train\\\\Uninfected']"
      ]
     },
     "execution_count": 11,
     "metadata": {},
     "output_type": "execute_result"
    }
   ],
   "source": [
    "folders"
   ]
  },
  {
   "cell_type": "code",
   "execution_count": 12,
   "metadata": {},
   "outputs": [],
   "source": [
    "x=Flatten()(vgg19.output)"
   ]
  },
  {
   "cell_type": "code",
   "execution_count": 24,
   "metadata": {},
   "outputs": [],
   "source": [
    "prediction=Dense(len(folders),activation='softmax')(x)\n",
    "\n",
    "model=Model(inputs=vgg19.input ,outputs=prediction)"
   ]
  },
  {
   "cell_type": "code",
   "execution_count": 25,
   "metadata": {},
   "outputs": [
    {
     "name": "stdout",
     "output_type": "stream",
     "text": [
      "Model: \"model_1\"\n",
      "_________________________________________________________________\n",
      "Layer (type)                 Output Shape              Param #   \n",
      "=================================================================\n",
      "input_1 (InputLayer)         [(None, 224, 224, 3)]     0         \n",
      "_________________________________________________________________\n",
      "block1_conv1 (Conv2D)        (None, 224, 224, 64)      1792      \n",
      "_________________________________________________________________\n",
      "block1_conv2 (Conv2D)        (None, 224, 224, 64)      36928     \n",
      "_________________________________________________________________\n",
      "block1_pool (MaxPooling2D)   (None, 112, 112, 64)      0         \n",
      "_________________________________________________________________\n",
      "block2_conv1 (Conv2D)        (None, 112, 112, 128)     73856     \n",
      "_________________________________________________________________\n",
      "block2_conv2 (Conv2D)        (None, 112, 112, 128)     147584    \n",
      "_________________________________________________________________\n",
      "block2_pool (MaxPooling2D)   (None, 56, 56, 128)       0         \n",
      "_________________________________________________________________\n",
      "block3_conv1 (Conv2D)        (None, 56, 56, 256)       295168    \n",
      "_________________________________________________________________\n",
      "block3_conv2 (Conv2D)        (None, 56, 56, 256)       590080    \n",
      "_________________________________________________________________\n",
      "block3_conv3 (Conv2D)        (None, 56, 56, 256)       590080    \n",
      "_________________________________________________________________\n",
      "block3_conv4 (Conv2D)        (None, 56, 56, 256)       590080    \n",
      "_________________________________________________________________\n",
      "block3_pool (MaxPooling2D)   (None, 28, 28, 256)       0         \n",
      "_________________________________________________________________\n",
      "block4_conv1 (Conv2D)        (None, 28, 28, 512)       1180160   \n",
      "_________________________________________________________________\n",
      "block4_conv2 (Conv2D)        (None, 28, 28, 512)       2359808   \n",
      "_________________________________________________________________\n",
      "block4_conv3 (Conv2D)        (None, 28, 28, 512)       2359808   \n",
      "_________________________________________________________________\n",
      "block4_conv4 (Conv2D)        (None, 28, 28, 512)       2359808   \n",
      "_________________________________________________________________\n",
      "block4_pool (MaxPooling2D)   (None, 14, 14, 512)       0         \n",
      "_________________________________________________________________\n",
      "block5_conv1 (Conv2D)        (None, 14, 14, 512)       2359808   \n",
      "_________________________________________________________________\n",
      "block5_conv2 (Conv2D)        (None, 14, 14, 512)       2359808   \n",
      "_________________________________________________________________\n",
      "block5_conv3 (Conv2D)        (None, 14, 14, 512)       2359808   \n",
      "_________________________________________________________________\n",
      "block5_conv4 (Conv2D)        (None, 14, 14, 512)       2359808   \n",
      "_________________________________________________________________\n",
      "block5_pool (MaxPooling2D)   (None, 7, 7, 512)         0         \n",
      "_________________________________________________________________\n",
      "flatten (Flatten)            (None, 25088)             0         \n",
      "_________________________________________________________________\n",
      "dense_1 (Dense)              (None, 2)                 50178     \n",
      "=================================================================\n",
      "Total params: 20,074,562\n",
      "Trainable params: 50,178\n",
      "Non-trainable params: 20,024,384\n",
      "_________________________________________________________________\n"
     ]
    }
   ],
   "source": [
    "model.summary()"
   ]
  },
  {
   "cell_type": "code",
   "execution_count": 26,
   "metadata": {},
   "outputs": [],
   "source": [
    "from tensorflow.keras.layers import MaxPooling3D"
   ]
  },
  {
   "cell_type": "code",
   "execution_count": 27,
   "metadata": {},
   "outputs": [
    {
     "data": {
      "text/plain": [
       "'\\nmodel=Sequential()\\nmodel.add(Conv2D(filters=16,kernel_size=2,padding=\"same\",activation=\"relu\",input_shape=(224,224,3)))\\nmodel.add(MaxPooling2D(pool_size=2))\\nmodel.add(Conv2D(filters=32,kernel_size=2,padding=\"same\",activation =\"relu\"))\\nmodel.add(MaxPooling2D(pool_size=2))\\nmodel.add(Conv2D(filters=64,kernel_size=2,padding=\"same\",activation=\"relu\"))\\nmodel.add(MaxPooling2D(pool_size=2))\\nmodel.add(Flatten())\\nmodel.add(Dense(500,activation=\"relu\"))\\nmodel.add(Dense(2,activation=\"softmax\"))\\nmodel.summary()\\n'"
      ]
     },
     "execution_count": 27,
     "metadata": {},
     "output_type": "execute_result"
    }
   ],
   "source": [
    "'''\n",
    "model=Sequential()\n",
    "model.add(Conv2D(filters=16,kernel_size=2,padding=\"same\",activation=\"relu\",input_shape=(224,224,3)))\n",
    "model.add(MaxPooling2D(pool_size=2))\n",
    "model.add(Conv2D(filters=32,kernel_size=2,padding=\"same\",activation =\"relu\"))\n",
    "model.add(MaxPooling2D(pool_size=2))\n",
    "model.add(Conv2D(filters=64,kernel_size=2,padding=\"same\",activation=\"relu\"))\n",
    "model.add(MaxPooling2D(pool_size=2))\n",
    "model.add(Flatten())\n",
    "model.add(Dense(500,activation=\"relu\"))\n",
    "model.add(Dense(2,activation=\"softmax\"))\n",
    "model.summary()\n",
    "'''"
   ]
  },
  {
   "cell_type": "code",
   "execution_count": 28,
   "metadata": {},
   "outputs": [],
   "source": [
    "model.compile(\n",
    "    loss='categorical_crossentropy',\n",
    "    optimizer='adam',\n",
    "    metrics=['accuracy']\n",
    ")"
   ]
  },
  {
   "cell_type": "code",
   "execution_count": 29,
   "metadata": {},
   "outputs": [],
   "source": [
    "from tensorflow.keras.preprocessing.image import ImageDataGenerator\n",
    "\n",
    "train_datagen=ImageDataGenerator(rescale=1./255,\n",
    "                                shear_range=0.2,\n",
    "                                zoom_range=0.2,\n",
    "                                horizontal_flip=True)\n",
    "\n",
    "test_datagen=ImageDataGenerator(rescale=1./255)"
   ]
  },
  {
   "cell_type": "code",
   "execution_count": 34,
   "metadata": {},
   "outputs": [
    {
     "name": "stdout",
     "output_type": "stream",
     "text": [
      "Found 416 images belonging to 2 classes.\n"
     ]
    }
   ],
   "source": [
    "training_set=train_datagen.flow_from_directory('Dataset/Train',\n",
    "                                              target_size=(224,224),\n",
    "                                              batch_size=32,\n",
    "                                              class_mode='categorical')"
   ]
  },
  {
   "cell_type": "code",
   "execution_count": 35,
   "metadata": {},
   "outputs": [
    {
     "data": {
      "text/plain": [
       "<keras_preprocessing.image.directory_iterator.DirectoryIterator at 0x17db9e47588>"
      ]
     },
     "execution_count": 35,
     "metadata": {},
     "output_type": "execute_result"
    }
   ],
   "source": [
    "training_set"
   ]
  },
  {
   "cell_type": "code",
   "execution_count": 36,
   "metadata": {},
   "outputs": [
    {
     "name": "stdout",
     "output_type": "stream",
     "text": [
      "Found 134 images belonging to 2 classes.\n"
     ]
    }
   ],
   "source": [
    "test_set=test_datagen.flow_from_directory('Dataset/Test',\n",
    "                                         target_size=(224,224),\n",
    "                                         batch_size=32,\n",
    "                                         class_mode='categorical')"
   ]
  },
  {
   "cell_type": "code",
   "execution_count": 40,
   "metadata": {},
   "outputs": [
    {
     "name": "stdout",
     "output_type": "stream",
     "text": [
      "WARNING:tensorflow:sample_weight modes were coerced from\n",
      "  ...\n",
      "    to  \n",
      "  ['...']\n",
      "WARNING:tensorflow:sample_weight modes were coerced from\n",
      "  ...\n",
      "    to  \n",
      "  ['...']\n",
      "Train for 13 steps, validate for 5 steps\n",
      "Epoch 1/10\n",
      "13/13 [==============================] - 40s 3s/step - loss: 0.3438 - accuracy: 0.8558 - val_loss: 0.3624 - val_accuracy: 0.7463\n",
      "Epoch 2/10\n",
      "13/13 [==============================] - 40s 3s/step - loss: 0.3228 - accuracy: 0.8774 - val_loss: 0.4233 - val_accuracy: 0.7612\n",
      "Epoch 3/10\n",
      "13/13 [==============================] - 40s 3s/step - loss: 0.2862 - accuracy: 0.8894 - val_loss: 0.3599 - val_accuracy: 0.8284\n",
      "Epoch 4/10\n",
      "13/13 [==============================] - 40s 3s/step - loss: 0.2823 - accuracy: 0.8870 - val_loss: 0.3357 - val_accuracy: 0.7463\n",
      "Epoch 5/10\n",
      "13/13 [==============================] - 40s 3s/step - loss: 0.2470 - accuracy: 0.8966 - val_loss: 0.3617 - val_accuracy: 0.8358\n",
      "Epoch 6/10\n",
      "13/13 [==============================] - 40s 3s/step - loss: 0.2368 - accuracy: 0.9183 - val_loss: 0.3017 - val_accuracy: 0.7612\n",
      "Epoch 7/10\n",
      "13/13 [==============================] - 40s 3s/step - loss: 0.2289 - accuracy: 0.9087 - val_loss: 0.2837 - val_accuracy: 0.8955\n",
      "Epoch 8/10\n",
      "13/13 [==============================] - 40s 3s/step - loss: 0.2063 - accuracy: 0.9375 - val_loss: 0.2561 - val_accuracy: 0.8955\n",
      "Epoch 9/10\n",
      "13/13 [==============================] - 40s 3s/step - loss: 0.2244 - accuracy: 0.9207 - val_loss: 0.4469 - val_accuracy: 0.7687\n",
      "Epoch 10/10\n",
      "13/13 [==============================] - 40s 3s/step - loss: 0.2036 - accuracy: 0.9255 - val_loss: 0.2423 - val_accuracy: 0.8806\n"
     ]
    }
   ],
   "source": [
    "history=model.fit(\n",
    "    training_set,\n",
    "    validation_data=test_set,\n",
    "    epochs=10,\n",
    "    steps_per_epoch=len(training_set),\n",
    "    validation_steps=len(test_set))"
   ]
  },
  {
   "cell_type": "code",
   "execution_count": 41,
   "metadata": {},
   "outputs": [
    {
     "data": {
      "image/png": "[encoded data removed]",
      "text/plain": [
       "<Figure size 432x288 with 1 Axes>"
      ]
     },
     "metadata": {
      "needs_background": "light"
     },
     "output_type": "display_data"
    },
    {
     "data": {
      "image/png": "[encoded data removed]",
      "text/plain": [
       "<Figure size 432x288 with 1 Axes>"
      ]
     },
     "metadata": {
      "needs_background": "light"
     },
     "output_type": "display_data"
    },
    {
     "data": {
      "text/plain": [
       "<Figure size 432x288 with 0 Axes>"
      ]
     },
     "metadata": {},
     "output_type": "display_data"
    }
   ],
   "source": [
    "# plot the loss\n",
    "plt.plot(history.history['loss'], label='train loss')\n",
    "plt.plot(history.history['val_loss'], label='val loss')\n",
    "plt.legend()\n",
    "plt.show()\n",
    "plt.savefig('LossVal_loss')\n",
    "\n",
    "# plot the accuracy\n",
    "plt.plot(history.history['accuracy'], label='train acc')\n",
    "plt.plot(history.history['val_accuracy'], label='val acc')\n",
    "plt.legend()\n",
    "plt.show()\n",
    "plt.savefig('AccVal_acc')"
   ]
  },
  {
   "cell_type": "code",
   "execution_count": 42,
   "metadata": {},
   "outputs": [],
   "source": [
    "from tensorflow.keras.models import load_model\n",
    "model.save('model_vgg19.h5')"
   ]
  },
  {
   "cell_type": "code",
   "execution_count": 43,
   "metadata": {},
   "outputs": [],
   "source": [
    "y_pred=model.predict(test_set)"
   ]
  },
  {
   "cell_type": "code",
   "execution_count": 44,
   "metadata": {},
   "outputs": [
    {
     "data": {
      "text/plain": [
       "array([[9.97882426e-01, 2.11749598e-03],\n",
       "       [4.56312269e-01, 5.43687701e-01],\n",
       "       [2.46730089e-01, 7.53269911e-01],\n",
       "       [4.39418823e-01, 5.60581207e-01],\n",
       "       [7.23139524e-01, 2.76860505e-01],\n",
       "       [9.95114088e-01, 4.88585513e-03],\n",
       "       [9.71120656e-01, 2.88793836e-02],\n",
       "       [7.15131283e-01, 2.84868687e-01],\n",
       "       [9.96432066e-01, 3.56786489e-03],\n",
       "       [8.99968386e-01, 1.00031607e-01],\n",
       "       [2.89247960e-01, 7.10752010e-01],\n",
       "       [5.77022851e-01, 4.22977209e-01],\n",
       "       [3.76909137e-01, 6.23090863e-01],\n",
       "       [4.11772281e-01, 5.88227689e-01],\n",
       "       [8.52408528e-01, 1.47591442e-01],\n",
       "       [9.98990834e-01, 1.00911327e-03],\n",
       "       [9.96117353e-01, 3.88260605e-03],\n",
       "       [6.28409684e-01, 3.71590316e-01],\n",
       "       [9.99955893e-01, 4.40835865e-05],\n",
       "       [5.04320621e-01, 4.95679408e-01],\n",
       "       [3.40624660e-01, 6.59375310e-01],\n",
       "       [2.96046793e-01, 7.03953207e-01],\n",
       "       [9.48496997e-01, 5.15030511e-02],\n",
       "       [4.28915441e-01, 5.71084559e-01],\n",
       "       [9.99524832e-01, 4.75135195e-04],\n",
       "       [3.95522416e-01, 6.04477584e-01],\n",
       "       [5.25990367e-01, 4.74009603e-01],\n",
       "       [9.10393298e-01, 8.96066576e-02],\n",
       "       [7.84008265e-01, 2.15991691e-01],\n",
       "       [9.22310531e-01, 7.76894838e-02],\n",
       "       [9.52045083e-01, 4.79549468e-02],\n",
       "       [1.57647476e-01, 8.42352509e-01],\n",
       "       [9.99686122e-01, 3.13869794e-04],\n",
       "       [9.72790718e-01, 2.72092968e-02],\n",
       "       [9.37257051e-01, 6.27429038e-02],\n",
       "       [7.13665128e-01, 2.86334872e-01],\n",
       "       [3.25080365e-01, 6.74919665e-01],\n",
       "       [9.97346640e-01, 2.65328656e-03],\n",
       "       [8.36430788e-01, 1.63569182e-01],\n",
       "       [9.98016119e-01, 1.98390614e-03],\n",
       "       [2.90981591e-01, 7.09018409e-01],\n",
       "       [9.35108125e-01, 6.48918450e-02],\n",
       "       [3.76930296e-01, 6.23069704e-01],\n",
       "       [3.51005465e-01, 6.48994565e-01],\n",
       "       [2.03389913e-01, 7.96610117e-01],\n",
       "       [9.93919611e-01, 6.08040625e-03],\n",
       "       [9.24580693e-01, 7.54192993e-02],\n",
       "       [9.75760281e-01, 2.42397040e-02],\n",
       "       [7.84480751e-01, 2.15519220e-01],\n",
       "       [4.18062985e-01, 5.81937015e-01],\n",
       "       [2.55453408e-01, 7.44546652e-01],\n",
       "       [9.97966528e-01, 2.03347346e-03],\n",
       "       [5.31812012e-01, 4.68188018e-01],\n",
       "       [7.25328147e-01, 2.74671853e-01],\n",
       "       [9.93143439e-01, 6.85656862e-03],\n",
       "       [9.71944273e-01, 2.80557852e-02],\n",
       "       [6.46668553e-01, 3.53331476e-01],\n",
       "       [3.27062428e-01, 6.72937572e-01],\n",
       "       [9.91448045e-01, 8.55203345e-03],\n",
       "       [9.88035262e-01, 1.19647216e-02],\n",
       "       [5.39449334e-01, 4.60550606e-01],\n",
       "       [5.76766014e-01, 4.23233986e-01],\n",
       "       [8.14203858e-01, 1.85796186e-01],\n",
       "       [5.14907420e-01, 4.85092580e-01],\n",
       "       [9.80504572e-01, 1.94953606e-02],\n",
       "       [9.97201443e-01, 2.79855472e-03],\n",
       "       [9.89327192e-01, 1.06728729e-02],\n",
       "       [5.06911755e-01, 4.93088275e-01],\n",
       "       [9.99440253e-01, 5.59677545e-04],\n",
       "       [8.89442682e-01, 1.10557251e-01],\n",
       "       [8.12207341e-01, 1.87792659e-01],\n",
       "       [9.91067231e-01, 8.93280376e-03],\n",
       "       [9.61538613e-01, 3.84614430e-02],\n",
       "       [9.94812489e-01, 5.18754730e-03],\n",
       "       [1.48912728e-01, 8.51087272e-01],\n",
       "       [9.27754939e-01, 7.22450763e-02],\n",
       "       [9.80284274e-01, 1.97158065e-02],\n",
       "       [7.86483526e-01, 2.13516504e-01],\n",
       "       [9.96538401e-01, 3.46158398e-03],\n",
       "       [9.97476161e-01, 2.52380455e-03],\n",
       "       [9.99990702e-01, 9.24712549e-06],\n",
       "       [9.99757230e-01, 2.42746552e-04],\n",
       "       [8.57067108e-01, 1.42932907e-01],\n",
       "       [8.70064437e-01, 1.29935592e-01],\n",
       "       [9.99459445e-01, 5.40513138e-04],\n",
       "       [9.97707844e-01, 2.29212828e-03],\n",
       "       [7.36290455e-01, 2.63709515e-01],\n",
       "       [1.87576741e-01, 8.12423229e-01],\n",
       "       [9.91423428e-01, 8.57655238e-03],\n",
       "       [9.78213608e-01, 2.17864253e-02],\n",
       "       [6.85330927e-01, 3.14669073e-01],\n",
       "       [4.39342618e-01, 5.60657322e-01],\n",
       "       [4.07808751e-01, 5.92191219e-01],\n",
       "       [8.17905426e-01, 1.82094634e-01],\n",
       "       [9.46347117e-01, 5.36529534e-02],\n",
       "       [3.85220379e-01, 6.14779651e-01],\n",
       "       [9.43425536e-01, 5.65744601e-02],\n",
       "       [6.48129642e-01, 3.51870328e-01],\n",
       "       [6.07515574e-01, 3.92484426e-01],\n",
       "       [2.91365474e-01, 7.08634496e-01],\n",
       "       [5.03281951e-01, 4.96718019e-01],\n",
       "       [3.12631696e-01, 6.87368274e-01],\n",
       "       [9.95290279e-01, 4.70970199e-03],\n",
       "       [8.86915565e-01, 1.13084406e-01],\n",
       "       [7.90882349e-01, 2.09117681e-01],\n",
       "       [9.91736591e-01, 8.26342776e-03],\n",
       "       [4.85647500e-01, 5.14352500e-01],\n",
       "       [7.99339294e-01, 2.00660691e-01],\n",
       "       [7.40525424e-01, 2.59474576e-01],\n",
       "       [9.99441922e-01, 5.58113097e-04],\n",
       "       [3.52206886e-01, 6.47793055e-01],\n",
       "       [9.54257965e-01, 4.57419865e-02],\n",
       "       [9.94748056e-01, 5.25193661e-03],\n",
       "       [2.58589625e-01, 7.41410315e-01],\n",
       "       [9.23241556e-01, 7.67584145e-02],\n",
       "       [2.17561379e-01, 7.82438576e-01],\n",
       "       [4.96699899e-01, 5.03300130e-01],\n",
       "       [7.01205313e-01, 2.98794717e-01],\n",
       "       [3.86146605e-01, 6.13853455e-01],\n",
       "       [2.83164799e-01, 7.16835201e-01],\n",
       "       [4.53769892e-01, 5.46230078e-01],\n",
       "       [3.08887511e-01, 6.91112459e-01],\n",
       "       [2.25334853e-01, 7.74665177e-01],\n",
       "       [7.72189617e-01, 2.27810413e-01],\n",
       "       [3.32681477e-01, 6.67318583e-01],\n",
       "       [5.97596586e-01, 4.02403384e-01],\n",
       "       [9.99918818e-01, 8.11272257e-05],\n",
       "       [2.24930853e-01, 7.75069177e-01],\n",
       "       [9.94027376e-01, 5.97260753e-03],\n",
       "       [9.70376313e-01, 2.96236780e-02],\n",
       "       [9.92824197e-01, 7.17583904e-03],\n",
       "       [9.94532824e-01, 5.46716619e-03],\n",
       "       [1.51249617e-01, 8.48750353e-01],\n",
       "       [7.70164251e-01, 2.29835764e-01]], dtype=float32)"
      ]
     },
     "execution_count": 44,
     "metadata": {},
     "output_type": "execute_result"
    }
   ],
   "source": [
    "y_pred"
   ]
  },
  {
   "cell_type": "code",
   "execution_count": 46,
   "metadata": {},
   "outputs": [],
   "source": [
    "import numpy as np\n",
    "y_pred=np.argmax(y_pred,axis=1)"
   ]
  },
  {
   "cell_type": "code",
   "execution_count": 47,
   "metadata": {},
   "outputs": [
    {
     "data": {
      "text/plain": [
       "array([0, 1, 1, 1, 0, 0, 0, 0, 0, 0, 1, 0, 1, 1, 0, 0, 0, 0, 0, 0, 1, 1,\n",
       "       0, 1, 0, 1, 0, 0, 0, 0, 0, 1, 0, 0, 0, 0, 1, 0, 0, 0, 1, 0, 1, 1,\n",
       "       1, 0, 0, 0, 0, 1, 1, 0, 0, 0, 0, 0, 0, 1, 0, 0, 0, 0, 0, 0, 0, 0,\n",
       "       0, 0, 0, 0, 0, 0, 0, 0, 1, 0, 0, 0, 0, 0, 0, 0, 0, 0, 0, 0, 0, 1,\n",
       "       0, 0, 0, 1, 1, 0, 0, 1, 0, 0, 0, 1, 0, 1, 0, 0, 0, 0, 1, 0, 0, 0,\n",
       "       1, 0, 0, 1, 0, 1, 1, 0, 1, 1, 1, 1, 1, 0, 1, 0, 0, 1, 0, 0, 0, 0,\n",
       "       1, 0], dtype=int64)"
      ]
     },
     "execution_count": 47,
     "metadata": {},
     "output_type": "execute_result"
    }
   ],
   "source": [
    "y_pred"
   ]
  },
  {
   "cell_type": "code",
   "execution_count": 49,
   "metadata": {},
   "outputs": [],
   "source": [
    "from tensorflow.keras.models import load_model\n",
    "from tensorflow.keras.preprocessing import image"
   ]
  },
  {
   "cell_type": "code",
   "execution_count": 50,
   "metadata": {},
   "outputs": [],
   "source": [
    "model=load_model('model_vgg19.h5')"
   ]
  },
  {
   "cell_type": "code",
   "execution_count": 51,
   "metadata": {},
   "outputs": [],
   "source": [
    "img=image.load_img('Dataset/Test/Uninfected/2.png',target_size=(224,224))"
   ]
  },
  {
   "cell_type": "code",
   "execution_count": 52,
   "metadata": {},
   "outputs": [],
   "source": [
    "x=image.img_to_array(img)"
   ]
  },
  {
   "cell_type": "code",
   "execution_count": 53,
   "metadata": {},
   "outputs": [
    {
     "data": {
      "text/plain": [
       "array([[[0., 0., 0.],\n",
       "        [0., 0., 0.],\n",
       "        [0., 0., 0.],\n",
       "        ...,\n",
       "        [0., 0., 0.],\n",
       "        [0., 0., 0.],\n",
       "        [0., 0., 0.]],\n",
       "\n",
       "       [[0., 0., 0.],\n",
       "        [0., 0., 0.],\n",
       "        [0., 0., 0.],\n",
       "        ...,\n",
       "        [0., 0., 0.],\n",
       "        [0., 0., 0.],\n",
       "        [0., 0., 0.]],\n",
       "\n",
       "       [[0., 0., 0.],\n",
       "        [0., 0., 0.],\n",
       "        [0., 0., 0.],\n",
       "        ...,\n",
       "        [0., 0., 0.],\n",
       "        [0., 0., 0.],\n",
       "        [0., 0., 0.]],\n",
       "\n",
       "       ...,\n",
       "\n",
       "       [[0., 0., 0.],\n",
       "        [0., 0., 0.],\n",
       "        [0., 0., 0.],\n",
       "        ...,\n",
       "        [0., 0., 0.],\n",
       "        [0., 0., 0.],\n",
       "        [0., 0., 0.]],\n",
       "\n",
       "       [[0., 0., 0.],\n",
       "        [0., 0., 0.],\n",
       "        [0., 0., 0.],\n",
       "        ...,\n",
       "        [0., 0., 0.],\n",
       "        [0., 0., 0.],\n",
       "        [0., 0., 0.]],\n",
       "\n",
       "       [[0., 0., 0.],\n",
       "        [0., 0., 0.],\n",
       "        [0., 0., 0.],\n",
       "        ...,\n",
       "        [0., 0., 0.],\n",
       "        [0., 0., 0.],\n",
       "        [0., 0., 0.]]], dtype=float32)"
      ]
     },
     "execution_count": 53,
     "metadata": {},
     "output_type": "execute_result"
    }
   ],
   "source": [
    "x"
   ]
  },
  {
   "cell_type": "code",
   "execution_count": 54,
   "metadata": {},
   "outputs": [
    {
     "data": {
      "text/plain": [
       "(224, 224, 3)"
      ]
     },
     "execution_count": 54,
     "metadata": {},
     "output_type": "execute_result"
    }
   ],
   "source": [
    "x.shape"
   ]
  },
  {
   "cell_type": "code",
   "execution_count": 55,
   "metadata": {},
   "outputs": [],
   "source": [
    "x=x/255"
   ]
  },
  {
   "cell_type": "code",
   "execution_count": 57,
   "metadata": {},
   "outputs": [
    {
     "data": {
      "text/plain": [
       "(1, 224, 224, 3)"
      ]
     },
     "execution_count": 57,
     "metadata": {},
     "output_type": "execute_result"
    }
   ],
   "source": [
    "x=np.expand_dims(x,axis=0)\n",
    "img_data=preprocess_input(x)\n",
    "img_data.shape"
   ]
  },
  {
   "cell_type": "code",
   "execution_count": 58,
   "metadata": {},
   "outputs": [
    {
     "data": {
      "text/plain": [
       "array([[0.00942249, 0.9905776 ]], dtype=float32)"
      ]
     },
     "execution_count": 58,
     "metadata": {},
     "output_type": "execute_result"
    }
   ],
   "source": [
    "model.predict(img_data)"
   ]
  },
  {
   "cell_type": "code",
   "execution_count": 59,
   "metadata": {},
   "outputs": [],
   "source": [
    "a=np.argmax(model.predict(img_data),axis=1)"
   ]
  },
  {
   "cell_type": "code",
   "execution_count": 60,
   "metadata": {},
   "outputs": [
    {
     "name": "stdout",
     "output_type": "stream",
     "text": [
      "Uninfected\n"
     ]
    }
   ],
   "source": [
    "if(a==1):\n",
    "    print(\"Uninfected\")\n",
    "else:\n",
    "    print(\"Infected\")"
   ]
  },
  {
   "cell_type": "code",
   "execution_count": null,
   "metadata": {},
   "outputs": [],
   "source": [
    " "
   ]
  }
 ],
 "metadata": {
  "kernelspec": {
   "display_name": "Python 3",
   "language": "python",
   "name": "python3"
  },
  "language_info": {
   "codemirror_mode": {
    "name": "ipython",
    "version": 3
   },
   "file_extension": ".py",
   "mimetype": "text/x-python",
   "name": "python",
   "nbconvert_exporter": "python",
   "pygments_lexer": "ipython3",
   "version": "3.6.10"
  }
 },
 "nbformat": 4,
 "nbformat_minor": 2
}
